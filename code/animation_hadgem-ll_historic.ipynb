{
 "cells": [
  {
   "cell_type": "markdown",
   "metadata": {},
   "source": [
    "## `animation_hadgem-ll_historic.ipynb`: create animation for historic hadgem-ll model simulation"
   ]
  },
  {
   "cell_type": "code",
   "execution_count": 1,
   "metadata": {},
   "outputs": [
    {
     "ename": "SyntaxError",
     "evalue": "invalid syntax (<fstring>, line 1)",
     "output_type": "error",
     "traceback": [
      "Traceback \u001b[0;36m(most recent call last)\u001b[0m:\n",
      "  File \u001b[1;32m\"/Users/alisondeere/opt/anaconda3/lib/python3.7/site-packages/IPython/core/interactiveshell.py\"\u001b[0m, line \u001b[1;32m3553\u001b[0m, in \u001b[1;35mrun_code\u001b[0m\n    exec(code_obj, self.user_global_ns, self.user_ns)\n",
      "\u001b[0;36m  File \u001b[0;32m\"/var/folders/dl/g06xp6g545d89brl0lpvddh00000gn/T/ipykernel_42006/281999787.py\"\u001b[0;36m, line \u001b[0;32m1\u001b[0;36m, in \u001b[0;35m<module>\u001b[0;36m\u001b[0m\n\u001b[0;31m    import context\u001b[0m\n",
      "\u001b[0;36m  File \u001b[0;32m\"<fstring>\"\u001b[0;36m, line \u001b[0;32m1\u001b[0m\n\u001b[0;31m    (this_dir=)\u001b[0m\n\u001b[0m             ^\u001b[0m\n\u001b[0;31mSyntaxError\u001b[0m\u001b[0;31m:\u001b[0m invalid syntax\n"
     ]
    }
   ],
   "source": [
    "import context\n",
    "import warnings\n",
    "import intake\n",
    "import xarray as xr \n",
    "import matplotlib.pyplot as plt \n",
    "import pandas as pd\n",
    "import cftime\n",
    "import gcsfs\n",
    "import cartopy.crs as ccrs\n",
    "from pathlib import Path\n",
    "import pandas as pd\n",
    "from a448_lib import data_read\n",
    "import fsspec\n",
    "import cmocean as cm\n",
    "import cartopy.feature as cfeature\n",
    "import numpy as np\n",
    "import warnings\n",
    "import matplotlib.animation as animation\n",
    "import matplotlib.path as mpath"
   ]
  },
  {
   "cell_type": "markdown",
   "metadata": {},
   "source": [
    "### Grab json file with all of the data from cmip6"
   ]
  },
  {
   "cell_type": "markdown",
   "metadata": {},
   "source": [
    "* Download the catalog in csv and json format"
   ]
  },
  {
   "cell_type": "code",
   "execution_count": null,
   "metadata": {},
   "outputs": [],
   "source": [
    "csv_filename = \"pangeo-cmip6.csv\"\n",
    "root = \"https://storage.googleapis.com/cmip6\"\n",
    "if Path(csv_filename).is_file():\n",
    "    print(f\"found {csv_filename}\")\n",
    "else:\n",
    "    print(f\"downloading {csv_filename}\")\n",
    "    data_read.download(csv_filename,root=root)\n",
    "    \n",
    "json_filename=\"https://storage.googleapis.com/cmip6/pangeo-cmip6.json\""
   ]
  },
  {
   "cell_type": "markdown",
   "metadata": {},
   "source": [
    "* make a dataframe from the csv version"
   ]
  },
  {
   "cell_type": "code",
   "execution_count": null,
   "metadata": {},
   "outputs": [],
   "source": [
    "catalog_df=pd.read_csv(csv_filename)\n",
    "catalog_df.head()"
   ]
  },
  {
   "cell_type": "markdown",
   "metadata": {},
   "source": [
    "* make an intake collection from the json version"
   ]
  },
  {
   "cell_type": "code",
   "execution_count": null,
   "metadata": {},
   "outputs": [],
   "source": [
    "col = intake.open_esm_datastore(json_filename)"
   ]
  },
  {
   "cell_type": "code",
   "execution_count": null,
   "metadata": {},
   "outputs": [],
   "source": [
    "col"
   ]
  },
  {
   "cell_type": "markdown",
   "metadata": {},
   "source": [
    "## First show all MOHC historical runs"
   ]
  },
  {
   "cell_type": "code",
   "execution_count": null,
   "metadata": {},
   "outputs": [],
   "source": [
    "source = \"HadGEM3-GC31-LL\"\n",
    "query = dict(\n",
    "    experiment_id=['historical'],\n",
    "    institution_id = \"MOHC\",\n",
    "    source_id = source,\n",
    "    table_id=[\"SImon\"],\n",
    "    variable_id=['sithick'])\n",
    "\n",
    "col_subset = col.search(require_all_on=[\"source_id\"],**query)"
   ]
  },
  {
   "cell_type": "code",
   "execution_count": null,
   "metadata": {},
   "outputs": [],
   "source": [
    "col_subset.df.head()"
   ]
  },
  {
   "cell_type": "code",
   "execution_count": null,
   "metadata": {},
   "outputs": [],
   "source": [
    "len(col_subset.df)\n",
    "\n",
    "list_of_members = col_subset.df"
   ]
  },
  {
   "cell_type": "markdown",
   "metadata": {},
   "source": [
    "## get the first realization for the sithick dataset"
   ]
  },
  {
   "cell_type": "code",
   "execution_count": null,
   "metadata": {},
   "outputs": [],
   "source": [
    "member = 'r1i1p1f3'\n",
    "filename=col_subset.df.query(\"member_id=='r1i1p1f3'\")['zstore'].iloc[0]"
   ]
  },
  {
   "cell_type": "code",
   "execution_count": null,
   "metadata": {},
   "outputs": [],
   "source": [
    "dset_mohc_sithick=xr.open_zarr(fsspec.get_mapper(filename), consolidated=True)\n",
    "dset_mohc_sithick"
   ]
  },
  {
   "cell_type": "markdown",
   "metadata": {},
   "source": [
    "## Now get the cell area for the ocean grid"
   ]
  },
  {
   "cell_type": "code",
   "execution_count": null,
   "metadata": {},
   "outputs": [],
   "source": [
    "query = dict(\n",
    "    experiment_id=['piControl'],\n",
    "    institution_id = \"MOHC\",\n",
    "    table_id = \"Ofx\",\n",
    "    source_id = source,\n",
    "    member_id = 'r1i1p1f1',\n",
    "    variable_id=['areacello'])\n",
    "\n",
    "col_subset = col.search(require_all_on=[\"source_id\"],**query)\n",
    "col_subset.df"
   ]
  },
  {
   "cell_type": "code",
   "execution_count": null,
   "metadata": {},
   "outputs": [],
   "source": [
    "filename=col_subset.df['zstore'].iloc[0]\n",
    "filename"
   ]
  },
  {
   "cell_type": "code",
   "execution_count": null,
   "metadata": {},
   "outputs": [],
   "source": [
    "dset_mohc_areacello=xr.open_zarr(fsspec.get_mapper(filename), consolidated=True)\n",
    "dset_mohc_areacello"
   ]
  },
  {
   "cell_type": "markdown",
   "metadata": {},
   "source": [
    "## Plot the lat/lon for this curvilinear ocean grid"
   ]
  },
  {
   "cell_type": "code",
   "execution_count": null,
   "metadata": {},
   "outputs": [],
   "source": [
    "lons = dset_mohc_sithick.longitude\n",
    "lats = dset_mohc_sithick.latitude\n",
    "data = dset_mohc_sithick['sithick']\n",
    "animation_data = data"
   ]
  },
  {
   "cell_type": "code",
   "execution_count": null,
   "metadata": {},
   "outputs": [],
   "source": [
    "lons.shape\n",
    "lats.shape\n",
    "data.shape"
   ]
  },
  {
   "cell_type": "code",
   "execution_count": null,
   "metadata": {},
   "outputs": [],
   "source": [
    "plt.plot(lons[-30:],lats[-30:],'r.');"
   ]
  },
  {
   "cell_type": "code",
   "execution_count": null,
   "metadata": {},
   "outputs": [],
   "source": [
    "def deseam(lon, lat, data):\n",
    "    \"\"\"\n",
    "    Function to get rid of the \"seam\" that shows up on \n",
    "    the map when you're using these curvilinear grids.\n",
    "    \"\"\"\n",
    "    i, j = lat.shape\n",
    "    new_lon = np.zeros((i, j + 1))\n",
    "    new_lon[:, :-1] = lon\n",
    "    new_lon[:, -1] = lon[:, 0]\n",
    "\n",
    "    new_lat = np.zeros((i, j + 1))\n",
    "    new_lat[:, :-1] = lat\n",
    "    new_lat[:, -1] = lat[:, 0]\n",
    "\n",
    "    new_data = np.zeros((i, j + 1))\n",
    "    new_data[:, :-1] = data\n",
    "    new_data[:, -1] = data[:, 0]\n",
    "    new_data = np.ma.array(new_data, mask=np.isnan(new_data))\n",
    "    return new_lon, new_lat, new_data"
   ]
  },
  {
   "cell_type": "code",
   "execution_count": null,
   "metadata": {},
   "outputs": [],
   "source": [
    "lons, lats, newdata = deseam(lons,lats,data[0,:,:])"
   ]
  },
  {
   "cell_type": "markdown",
   "metadata": {},
   "source": [
    "### Create Animation"
   ]
  },
  {
   "cell_type": "code",
   "execution_count": null,
   "metadata": {},
   "outputs": [],
   "source": [
    "# time step\n",
    "time_step = 120\n",
    "years = [0,1*time_step, 2*time_step, 3*time_step, 4*time_step, 5*time_step, 6*time_step, 7*time_step, 8*time_step, 9*time_step, 10*time_step, 11*time_step, 12*time_step, 13*time_step,14*time_step, 15*time_step, 16*time_step]\n",
    "dset_mohc_sithick['sithick'][years,:,:]\n",
    "\n",
    "every_ten_years = dset_mohc_sithick['sithick'][years,:,:]\n",
    "every_ten_years_time = dset_mohc_sithick['time'][years]"
   ]
  },
  {
   "cell_type": "code",
   "execution_count": null,
   "metadata": {},
   "outputs": [],
   "source": [
    "%matplotlib notebook\n",
    "import matplotlib.animation as animation\n",
    "\n",
    "f, ax = plt.subplots(1,1,figsize=(6,6),\n",
    "                     subplot_kw=dict(projection=ccrs.Orthographic(0, 80)))\n",
    "\n",
    "theta = np.linspace(0, 2*np.pi, 100)\n",
    "center, radius = [0.5, 0.5], 0.5\n",
    "verts = np.vstack([np.sin(theta), np.cos(theta)]).T\n",
    "circle = mpath.Path(verts * radius + center)\n",
    "\n",
    "ax.set_boundary(circle, transform=ax.transAxes)\n",
    "\n",
    "ax.set_extent([-180, 180, 60, 90], ccrs.PlateCarree())\n",
    "cax = ax.pcolormesh(lons,\n",
    "              lats,\n",
    "              dset_mohc_sithick['sithick'][0,:,:],\n",
    "              transform=ccrs.PlateCarree(),\n",
    "              vmin=0, vmax=12, cmap='ocean_r')\n",
    "\n",
    "f.colorbar(cax, label='sea ice thickness (m)')\n",
    "\n",
    "t = animation_data.time\n",
    "\n",
    "\n",
    "#ax.set_title('CCCma sea ice thickness (m)' + str(dset_cccma_sithick['time'][i]))\n",
    "\n",
    "# Add land.\n",
    "ax.add_feature(cfeature.LAND, color='#444444', zorder=4);\n",
    "ax.gridlines(color = \"white\", zorder=5)\n",
    "\n",
    "def animate(i):\n",
    "        cax.set_array(every_ten_years[i, :, :].values.flatten())\n",
    "        ax.set_title('Sea ice thickness (m) :' + str(every_ten_years_time[i].values))\n",
    "        \n",
    "\n",
    "        \n",
    "        \n",
    "anim = animation.FuncAnimation(f, animate, interval=50, frames=len(t)-1, repeat=False, blit=True)\n",
    "\n",
    "f.show()\n",
    "animation_type = 'pcolor'\n",
    "anim.save('hadgem-LL_historic.gif')"
   ]
  }
 ],
 "metadata": {
  "jupytext": {
   "notebook_metadata_filter": "all,-language_info,-toc,-latex_envs"
  },
  "kernelspec": {
   "display_name": "Python 3.7.6 ('base')",
   "language": "python",
   "name": "python3"
  },
  "language_info": {
   "codemirror_mode": {
    "name": "ipython",
    "version": 3
   },
   "file_extension": ".py",
   "mimetype": "text/x-python",
   "name": "python",
   "nbconvert_exporter": "python",
   "pygments_lexer": "ipython3",
   "version": "3.7.6"
  },
  "vscode": {
   "interpreter": {
    "hash": "f24a8a1b71cfb1a2c013c439333f3e12b3bcae4ea06c461b94c8c4162b6f5d61"
   }
  }
 },
 "nbformat": 4,
 "nbformat_minor": 4
}
