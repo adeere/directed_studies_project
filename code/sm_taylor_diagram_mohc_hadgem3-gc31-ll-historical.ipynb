{
 "cells": [
  {
   "cell_type": "markdown",
   "metadata": {},
   "source": [
    "## `sm_taylor_diagram_mohc_hadgem3-gc31-ll-historical.ipynb`: create taylor diagram of HadGEM3-GC3.1-LL ensemble members.\n",
    "### NOTE: run`sm_taylor_diagram_cccma_historical.ipynb` can be run afterwards to compare one ensemble member from the HadGEM3-GC3.1-LL with Canadian model"
   ]
  },
  {
   "cell_type": "code",
   "execution_count": 1,
   "metadata": {},
   "outputs": [
    {
     "name": "stdout",
     "output_type": "stream",
     "text": [
      "found this_dir=PosixPath('/home/jovyan/work/data_share')\n",
      "found lib_dir=PosixPath('/home/jovyan/work/data_share/a448_lib')\n",
      "******************************\n",
      "context imported. Front of path:\n",
      "/home/jovyan/work/data_share\n",
      "back of path: /home/jovyan/.ipython\n",
      "******************************\n",
      "\n"
     ]
    }
   ],
   "source": [
    "import context\n",
    "import warnings\n",
    "import intake\n",
    "import xarray as xr \n",
    "import matplotlib.pyplot as plt \n",
    "import pandas as pd\n",
    "import cftime\n",
    "import gcsfs\n",
    "import cartopy.crs as ccrs\n",
    "from pathlib import Path\n",
    "import pandas as pd\n",
    "from a448_lib import data_read\n",
    "import fsspec\n",
    "import cmocean as cm\n",
    "import cartopy.feature as cfeature\n",
    "import numpy as np\n",
    "import warnings\n",
    "import matplotlib.pyplot as plt\n",
    "from matplotlib import rcParams\n",
    "import numpy as np\n",
    "import skill_metrics as sm\n",
    "from sys import version_info\n",
    "from skill_metrics import error_check_stats\n",
    "from skill_metrics import centered_rms_dev"
   ]
  },
  {
   "cell_type": "markdown",
   "metadata": {},
   "source": [
    "### Grab json file with all the data from CMIP6"
   ]
  },
  {
   "cell_type": "code",
   "execution_count": 17,
   "metadata": {},
   "outputs": [
    {
     "name": "stdout",
     "output_type": "stream",
     "text": [
      "found pangeo-cmip6.csv\n"
     ]
    }
   ],
   "source": [
    "csv_filename = \"pangeo-cmip6.csv\"\n",
    "root = \"https://storage.googleapis.com/cmip6\"\n",
    "if Path(csv_filename).is_file():\n",
    "    print(f\"found {csv_filename}\")\n",
    "else:\n",
    "    print(f\"downloading {csv_filename}\")\n",
    "    data_read.download(csv_filename,root=root)\n",
    "    \n",
    "json_filename=\"https://storage.googleapis.com/cmip6/pangeo-cmip6.json\""
   ]
  },
  {
   "cell_type": "markdown",
   "metadata": {},
   "source": [
    "* make a dataframe from the csv version"
   ]
  },
  {
   "cell_type": "code",
   "execution_count": 18,
   "metadata": {},
   "outputs": [
    {
     "data": {
      "text/html": [
       "<div>\n",
       "<style scoped>\n",
       "    .dataframe tbody tr th:only-of-type {\n",
       "        vertical-align: middle;\n",
       "    }\n",
       "\n",
       "    .dataframe tbody tr th {\n",
       "        vertical-align: top;\n",
       "    }\n",
       "\n",
       "    .dataframe thead th {\n",
       "        text-align: right;\n",
       "    }\n",
       "</style>\n",
       "<table border=\"1\" class=\"dataframe\">\n",
       "  <thead>\n",
       "    <tr style=\"text-align: right;\">\n",
       "      <th></th>\n",
       "      <th>activity_id</th>\n",
       "      <th>institution_id</th>\n",
       "      <th>source_id</th>\n",
       "      <th>experiment_id</th>\n",
       "      <th>member_id</th>\n",
       "      <th>table_id</th>\n",
       "      <th>variable_id</th>\n",
       "      <th>grid_label</th>\n",
       "      <th>zstore</th>\n",
       "      <th>dcpp_init_year</th>\n",
       "      <th>version</th>\n",
       "    </tr>\n",
       "  </thead>\n",
       "  <tbody>\n",
       "    <tr>\n",
       "      <th>0</th>\n",
       "      <td>HighResMIP</td>\n",
       "      <td>CMCC</td>\n",
       "      <td>CMCC-CM2-HR4</td>\n",
       "      <td>highresSST-present</td>\n",
       "      <td>r1i1p1f1</td>\n",
       "      <td>Amon</td>\n",
       "      <td>hurs</td>\n",
       "      <td>gn</td>\n",
       "      <td>gs://cmip6/CMIP6/HighResMIP/CMCC/CMCC-CM2-HR4/...</td>\n",
       "      <td>NaN</td>\n",
       "      <td>20170706</td>\n",
       "    </tr>\n",
       "    <tr>\n",
       "      <th>1</th>\n",
       "      <td>HighResMIP</td>\n",
       "      <td>CMCC</td>\n",
       "      <td>CMCC-CM2-HR4</td>\n",
       "      <td>highresSST-present</td>\n",
       "      <td>r1i1p1f1</td>\n",
       "      <td>Amon</td>\n",
       "      <td>tauv</td>\n",
       "      <td>gn</td>\n",
       "      <td>gs://cmip6/CMIP6/HighResMIP/CMCC/CMCC-CM2-HR4/...</td>\n",
       "      <td>NaN</td>\n",
       "      <td>20170706</td>\n",
       "    </tr>\n",
       "    <tr>\n",
       "      <th>2</th>\n",
       "      <td>HighResMIP</td>\n",
       "      <td>CMCC</td>\n",
       "      <td>CMCC-CM2-HR4</td>\n",
       "      <td>highresSST-present</td>\n",
       "      <td>r1i1p1f1</td>\n",
       "      <td>Amon</td>\n",
       "      <td>ta</td>\n",
       "      <td>gn</td>\n",
       "      <td>gs://cmip6/CMIP6/HighResMIP/CMCC/CMCC-CM2-HR4/...</td>\n",
       "      <td>NaN</td>\n",
       "      <td>20170706</td>\n",
       "    </tr>\n",
       "    <tr>\n",
       "      <th>3</th>\n",
       "      <td>HighResMIP</td>\n",
       "      <td>CMCC</td>\n",
       "      <td>CMCC-CM2-HR4</td>\n",
       "      <td>highresSST-present</td>\n",
       "      <td>r1i1p1f1</td>\n",
       "      <td>Amon</td>\n",
       "      <td>tas</td>\n",
       "      <td>gn</td>\n",
       "      <td>gs://cmip6/CMIP6/HighResMIP/CMCC/CMCC-CM2-HR4/...</td>\n",
       "      <td>NaN</td>\n",
       "      <td>20170706</td>\n",
       "    </tr>\n",
       "    <tr>\n",
       "      <th>4</th>\n",
       "      <td>HighResMIP</td>\n",
       "      <td>CMCC</td>\n",
       "      <td>CMCC-CM2-HR4</td>\n",
       "      <td>highresSST-present</td>\n",
       "      <td>r1i1p1f1</td>\n",
       "      <td>Amon</td>\n",
       "      <td>tasmax</td>\n",
       "      <td>gn</td>\n",
       "      <td>gs://cmip6/CMIP6/HighResMIP/CMCC/CMCC-CM2-HR4/...</td>\n",
       "      <td>NaN</td>\n",
       "      <td>20170706</td>\n",
       "    </tr>\n",
       "  </tbody>\n",
       "</table>\n",
       "</div>"
      ],
      "text/plain": [
       "  activity_id institution_id     source_id       experiment_id member_id  \\\n",
       "0  HighResMIP           CMCC  CMCC-CM2-HR4  highresSST-present  r1i1p1f1   \n",
       "1  HighResMIP           CMCC  CMCC-CM2-HR4  highresSST-present  r1i1p1f1   \n",
       "2  HighResMIP           CMCC  CMCC-CM2-HR4  highresSST-present  r1i1p1f1   \n",
       "3  HighResMIP           CMCC  CMCC-CM2-HR4  highresSST-present  r1i1p1f1   \n",
       "4  HighResMIP           CMCC  CMCC-CM2-HR4  highresSST-present  r1i1p1f1   \n",
       "\n",
       "  table_id variable_id grid_label  \\\n",
       "0     Amon        hurs         gn   \n",
       "1     Amon        tauv         gn   \n",
       "2     Amon          ta         gn   \n",
       "3     Amon         tas         gn   \n",
       "4     Amon      tasmax         gn   \n",
       "\n",
       "                                              zstore  dcpp_init_year   version  \n",
       "0  gs://cmip6/CMIP6/HighResMIP/CMCC/CMCC-CM2-HR4/...             NaN  20170706  \n",
       "1  gs://cmip6/CMIP6/HighResMIP/CMCC/CMCC-CM2-HR4/...             NaN  20170706  \n",
       "2  gs://cmip6/CMIP6/HighResMIP/CMCC/CMCC-CM2-HR4/...             NaN  20170706  \n",
       "3  gs://cmip6/CMIP6/HighResMIP/CMCC/CMCC-CM2-HR4/...             NaN  20170706  \n",
       "4  gs://cmip6/CMIP6/HighResMIP/CMCC/CMCC-CM2-HR4/...             NaN  20170706  "
      ]
     },
     "execution_count": 18,
     "metadata": {},
     "output_type": "execute_result"
    }
   ],
   "source": [
    "catalog_df=pd.read_csv(csv_filename)\n",
    "catalog_df.head()"
   ]
  },
  {
   "cell_type": "code",
   "execution_count": 19,
   "metadata": {},
   "outputs": [],
   "source": [
    "col = intake.open_esm_datastore(json_filename)"
   ]
  },
  {
   "cell_type": "markdown",
   "metadata": {},
   "source": [
    "## Grab all Hadgem-gc31-LL experimental runs"
   ]
  },
  {
   "cell_type": "code",
   "execution_count": 20,
   "metadata": {},
   "outputs": [],
   "source": [
    "source = \"HadGEM3-GC31-LL\"\n",
    "query = dict(\n",
    "    experiment_id=['historical'],\n",
    "    institution_id = \"MOHC\",\n",
    "    source_id = source,\n",
    "    table_id=[\"SImon\"],\n",
    "    variable_id=['sithick'])\n",
    "\n",
    "col_subset = col.search(require_all_on=[\"source_id\"],**query)"
   ]
  },
  {
   "cell_type": "code",
   "execution_count": 21,
   "metadata": {},
   "outputs": [],
   "source": [
    "list_of_members = col_subset.df"
   ]
  },
  {
   "cell_type": "markdown",
   "metadata": {},
   "source": [
    "#### Define Taylor Statistics Function"
   ]
  },
  {
   "cell_type": "code",
   "execution_count": 22,
   "metadata": {},
   "outputs": [],
   "source": [
    "def taylor_statistics(predicted,reference,field=''):\n",
    "    '''\n",
    "    Calculates the statistics needed to create a Taylor diagram as \n",
    "    described in Taylor (2001) using the data provided in the predicted \n",
    "    field (PREDICTED) and the reference field (REFERENCE).\n",
    "    \n",
    "    The statistics are returned in the STATS dictionary.\n",
    "    If a dictionary is provided for PREDICTED or REFERENCE, then \n",
    "    the name of the field must be supplied in FIELD.\n",
    "  \n",
    "    The function currently supports dictionaries, lists, and np.ndarray,\n",
    "    types for the PREDICTED and REFERENCE variables.\n",
    " \n",
    "    Input:\n",
    "    PREDICTED : predicted field\n",
    "    REFERENCE : reference field\n",
    "    FIELD     : name of field to use in PREDICTED and REFERENCE dictionaries\n",
    "                (optional)\n",
    "    NORM      : logical flag specifying statistics are to be normalized \n",
    "                with respect to standard deviation of reference field\n",
    "                = True,  statistics are normalized\n",
    "                = False, statistics are not normalized\n",
    " \n",
    "    Output:\n",
    "    STATS          : dictionary containing statistics\n",
    "    STATS['ccoef'] : correlation coefficients (R)\n",
    "    STATS['crmsd'] : centered root-mean-square (RMS) differences (E')\n",
    "    STATS['sdev']  : standard deviations\n",
    " \n",
    "    Each of these outputs are one-dimensional with the same length. \n",
    "    First index corresponds to the reference series for the diagram. \n",
    "    For example SDEV[1] is the standard deviation of the reference \n",
    "    series (sigma_r) and SDEV[2:N] are the standard deviations of the \n",
    "    other (predicted) series.\n",
    " \n",
    "    Reference:\n",
    "    \n",
    "    Taylor, K. E. (2001), Summarizing multiple aspects of model \n",
    "      performance in a single diagram, J. Geophys. Res., 106(D7),\n",
    "      7183-7192, doi:10.1029/2000JD900719.\n",
    "    Author: Peter A. Rochford\n",
    "        Symplectic, LLC\n",
    "        www.thesymplectic.com\n",
    "        prochford@thesymplectic.com\n",
    "    Created on Dec 3, 2016\n",
    "    '''\n",
    "\n",
    "    p, r = error_check_stats(predicted,reference,field)\n",
    "\n",
    "    # Calculate correlation coefficient\n",
    "    ccoef = np.corrcoef(p,r)\n",
    "    ccoef = ccoef[0]\n",
    "\n",
    "    # Calculate centered root-mean-square (RMS) difference (E')^2\n",
    "    crmsd = [0.0, centered_rms_dev(p,r)]\n",
    "\n",
    "    # Calculate standard deviation of predicted field w.r.t N (sigma_p)\n",
    "    sdevp = np.std(p)\n",
    "    \n",
    "    # Calculate standard deviation of reference field w.r.t N (sigma_r)\n",
    "    sdevr = np.std(r)\n",
    "    sdev = [sdevr, sdevp];\n",
    "\n",
    "    # Store statistics in a dictionary\n",
    "    stats = {'ccoef': ccoef, 'crmsd': crmsd, 'sdev': sdev}\n",
    "    return stats"
   ]
  },
  {
   "cell_type": "markdown",
   "metadata": {},
   "source": [
    "#### These are the models we will be comparing. Treat member 0 (r1i1p2f1 as the reference model)"
   ]
  },
  {
   "cell_type": "code",
   "execution_count": 23,
   "metadata": {},
   "outputs": [
    {
     "name": "stdout",
     "output_type": "stream",
     "text": [
      "0    r2i1p1f3\n",
      "1    r3i1p1f3\n",
      "2    r1i1p1f3\n",
      "3    r4i1p1f3\n",
      "Name: member_id, dtype: object\n"
     ]
    }
   ],
   "source": [
    "member_ids = list_of_members['member_id']\n",
    "subset_member_ids = member_ids[0:4]\n",
    "print(subset_member_ids)"
   ]
  },
  {
   "cell_type": "code",
   "execution_count": 24,
   "metadata": {},
   "outputs": [
    {
     "name": "stdout",
     "output_type": "stream",
     "text": [
      "Stored 'mohc_pd' (DataFrame)\n"
     ]
    }
   ],
   "source": [
    "# setting up reference \n",
    "my_memberid = \"member_id==\" + \"\\'\" + str(subset_member_ids[3]) +\"\\'\"\n",
    "filenames = list_of_members.query(my_memberid)['zstore'].iloc[0]\n",
    "reference =xr.open_zarr(fsspec.get_mapper(filenames), consolidated=True)\n",
    "\n",
    "mohc_pd = reference['sithick'][-1,:,:].to_dataframe()\n",
    "mohc_pd = mohc_pd.dropna()\n",
    "mohc_pd\n",
    "%store mohc_pd"
   ]
  },
  {
   "cell_type": "code",
   "execution_count": 25,
   "metadata": {},
   "outputs": [],
   "source": [
    "my_memberid = \"member_id==\" + \"\\'\" + str(subset_member_ids[1]) +\"\\'\"\n",
    "filenames = list_of_members.query(my_memberid)['zstore'].iloc[0]\n",
    "reference =xr.open_zarr(fsspec.get_mapper(filenames), consolidated=True)\n",
    "\n",
    "reference_pd = reference['sithick'][-1,:,:].to_dataframe()\n",
    "reference_pd = reference_pd.rename(columns={\"sithick\": \"sithick_reference\"})\n",
    "reference_pd = reference_pd.dropna()"
   ]
  },
  {
   "cell_type": "code",
   "execution_count": 26,
   "metadata": {},
   "outputs": [],
   "source": [
    "#bias = np.zeros((4))\n",
    "\n",
    "# setting up reference \n",
    "my_memberid = \"member_id==\" + \"\\'\" + str(subset_member_ids[0]) +\"\\'\"\n",
    "filenames = list_of_members.query(my_memberid)['zstore'].iloc[0]\n",
    "reference =xr.open_zarr(fsspec.get_mapper(filenames), consolidated=True)\n",
    "\n",
    "reference_pd = reference['sithick'][-1,:,:].to_dataframe()\n",
    "reference_pd = reference_pd.rename(columns={\"sithick\": \"sithick_reference\"})\n",
    "reference_pd = reference_pd.dropna()\n",
    "\n",
    "icount = 1\n",
    "for i in subset_member_ids[1:]:\n",
    "    my_memberid = \"member_id==\" + \"\\'\" + str(i) +\"\\'\"\n",
    "    filenames = list_of_members.query(my_memberid)['zstore'].iloc[0]\n",
    "    dset_mohc_sithick =xr.open_zarr(fsspec.get_mapper(filenames), consolidated=True)\n",
    "    \n",
    "    \n",
    "    prediction_pd = dset_mohc_sithick['sithick'][-1,:,:].to_dataframe()\n",
    "   \n",
    "    prediction_pd = prediction_pd.dropna()\n",
    "    int_df = pd.merge(reference_pd, prediction_pd, how ='inner', on =['latitude', 'longitude', 'time'])\n",
    "    reference_np = int_df['sithick_reference'].to_numpy()\n",
    "    prediction_np = int_df['sithick'].to_numpy()\n",
    "    #bias[icount] = sm.bias(prediction_np, reference_np)\n",
    " \n",
    "    if icount == 1:\n",
    "        taylor_stats_1 = sm.taylor_statistics(prediction_np, reference_np)\n",
    "    elif icount == 2: \n",
    "        taylor_stats_2 = sm.taylor_statistics(prediction_np, reference_np)\n",
    "    elif icount == 3: \n",
    "        taylor_stats_3 = sm.taylor_statistics(prediction_np, reference_np)\n",
    "        \n",
    "    icount = icount + 1 \n",
    "    \n",
    "#bias = bias[1:]"
   ]
  },
  {
   "cell_type": "code",
   "execution_count": 27,
   "metadata": {},
   "outputs": [
    {
     "data": {
      "image/png": "[encoded data removed]",
      "text/plain": [
       "<Figure size 576x460.8 with 1 Axes>"
      ]
     },
     "metadata": {
      "needs_background": "light"
     },
     "output_type": "display_data"
    }
   ],
   "source": [
    "'''\n",
    "How to create a simple Taylor diagram\n",
    "A first example of how to create a simple Taylor diagram given one set of\n",
    "reference observations and multiple model predictions for the quantity.\n",
    "The Python code is kept to a minimum.\n",
    "This example shows how to calculate the required statistics and produce\n",
    "the Taylor diagram.\n",
    "All functions in the Skill Metrics library are designed to only work with\n",
    "one-dimensional arrays, e.g. time series of observations at a selected\n",
    "location. The one-dimensional data are read in as dictionaries via a \n",
    "pickle file: ref['data'], pred1['data'], pred2['data'], \n",
    "and pred3['data']. The plot is written to a file in Portable Network \n",
    "Graphics (PNG) format.\n",
    "The reference data used in this example are cell concentrations of a\n",
    "phytoplankton collected from cruise surveys at selected locations and \n",
    "time. The model predictions are from three different simulations that\n",
    "have been space-time interpolated to the location and time of the sample\n",
    "collection. Details on the contents of the dictionary (once loaded) can \n",
    "be obtained by simply executing the following two statements\n",
    ">> key_to_value_lengths = {k:len(v) for k, v in ref.items()}\n",
    ">> print key_to_value_lengths\n",
    "{'units': 6, 'longitude': 57, 'jday': 57, 'date': 57, 'depth': 57, \n",
    "'station': 57, 'time': 57, 'latitude': 57, 'data': 57}\n",
    "Author: Peter A. Rochford\n",
    "        Symplectic, LLC\n",
    "        www.thesymplectic.com\n",
    "Created on Dec 3, 2016\n",
    "@author: prochford@thesymplectic.com\n",
    "'''\n",
    "\n",
    "if __name__ == '__main__':\n",
    "\n",
    "    # Set the figure properties (optional)\n",
    "    rcParams[\"figure.figsize\"] = [8.0, 6.4]\n",
    "    rcParams['lines.linewidth'] = 1 # line width for plots\n",
    "    rcParams.update({'font.size': 12}) # font size of axes text\n",
    "    \n",
    "    # Close any previously open graphics windows\n",
    "    # ToDo: fails to work within Eclipse\n",
    "    plt.close('all')\n",
    "\n",
    "\n",
    "    # Calculate statistics for Taylor diagram\n",
    "    # The first array element (e.g. taylor_stats1[0]) corresponds to the \n",
    "    # reference series while the second and subsequent elements\n",
    "    # (e.g. taylor_stats1[1:]) are those for the predicted series.\n",
    "    \n",
    "    \n",
    "    # Store statistics in arrays\n",
    "    sdev = np.array([taylor_stats_1['sdev'][0], taylor_stats_1['sdev'][1], \n",
    "                     taylor_stats_2['sdev'][1], taylor_stats_3['sdev'][1]])\n",
    "    crmsd = np.array([taylor_stats_1['crmsd'][0], taylor_stats_1['crmsd'][1], \n",
    "                      taylor_stats_2['crmsd'][1], taylor_stats_3['crmsd'][1]])\n",
    "    ccoef = np.array([taylor_stats_1['ccoef'][0], taylor_stats_1['ccoef'][1], \n",
    "                      taylor_stats_2['ccoef'][1], taylor_stats_3['ccoef'][1]])\n",
    "\n",
    "    '''\n",
    "    Produce the Taylor diagram\n",
    "    Note that the first index corresponds to the reference series for \n",
    "    the diagram. For example sdev[0] is the standard deviation of the \n",
    "    reference series and sdev[1:4] are the standard deviations of the \n",
    "    other 3 series. The value of sdev[0] is used to define the origin \n",
    "    of the RMSD contours. The other values are used to plot the points \n",
    "    (total of 3) that appear in the diagram.\n",
    "    For an exhaustive list of options to customize your diagram, \n",
    "    please call the function at a Python command line:\n",
    "    >> taylor_diagram\n",
    "    \n",
    "    '''\n",
    "    # Specify labels for points in a cell array (M1 for model prediction 1,\n",
    "    # etc.). Note that a label needs to be specified for the reference even\n",
    "    # though it is not used.\n",
    "    #label = ['Non-Dimensional Observation', 'M1', 'M2', 'M3', 'M4', 'M5']\n",
    "    \n",
    "    \n",
    "    label = ['Non-Dimensional Observation', str(subset_member_ids[1]), str(subset_member_ids[2]), str(subset_member_ids[3])]\n",
    "    sm.taylor_diagram(sdev,crmsd,ccoef, markerlabel = label, markerLegend='on')\n",
    "\n",
    "    # Write plot to file\n",
    "    #plt.savefig('taylor1.png')\n",
    "\n",
    "    # Show plot\n",
    "    plt.show()"
   ]
  }
 ],
 "metadata": {
  "jupytext": {
   "notebook_metadata_filter": "all,-language_info,-toc,-latex_envs"
  },
  "kernelspec": {
   "display_name": "Python 3",
   "language": "python",
   "name": "python3"
  },
  "language_info": {
   "codemirror_mode": {
    "name": "ipython",
    "version": 3
   },
   "file_extension": ".py",
   "mimetype": "text/x-python",
   "name": "python",
   "nbconvert_exporter": "python",
   "pygments_lexer": "ipython3",
   "version": "3.8.8"
  }
 },
 "nbformat": 4,
 "nbformat_minor": 4
}
