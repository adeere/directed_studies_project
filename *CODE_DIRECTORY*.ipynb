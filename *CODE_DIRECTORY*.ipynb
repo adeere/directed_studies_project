{
 "cells": [
  {
   "cell_type": "markdown",
   "id": "bc42a0f0",
   "metadata": {},
   "source": [
    "# Code Directory"
   ]
  },
  {
   "cell_type": "markdown",
   "id": "7431b616",
   "metadata": {},
   "source": [
    "* All of my code is located in `/code`\n",
    "* This project was completed in May 2021 and all the code was hosted on a Jupyter Hub. A couple of files do not currently run as dependencies have changed etc. It is my plan to work through this and get all the code working again.",
   ]
  },
  {
   "cell_type": "markdown",
   "id": "90159fb7",
   "metadata": {},
   "source": [
    "## Polar Plots\n",
    "\n",
    "Polar plot code is in the following files: \n",
    "* `polar_plots_cccma.ipynb`: code creates 5 by 8 plot of all ensembles CanESM5 model polar plots, and 3 by 6 plots of each decade for one ensemble.\n",
    "* `polar_plots_mohc-hadgem3-gc31-ll.ipynb`: code creates 4 by 1 plot of HadGEM3-GC31-LL model polar plots\n",
    "* `polar_plots_mohc-hadgem3-gc31-mm.ipynb`: code creates 4 by 1 plot of HadGRM3-GC31-MM model polar plots\n",
    "    * Note: Not used in this project. Code is an older version, not finalized for the report. \n",
    "* `polar_plots_UKESM1-0-LL.ipynb`: code creates 4 by 2 plot of UKESM historic model polar plots\n",
    "    * Note: Not used in this project. Code is an older version, not finalized for the report."
   ]
  },
  {
   "cell_type": "markdown",
   "id": "7849aabd",
   "metadata": {},
   "source": [
    "## Animations \n",
    "* The animations were created for the presentation and were not used for the report.\n",
    "\n",
    "Animation code is in the following files: \n",
    "* `animation_cccma_historic.ipynb`: Create animation for historic CanESM5 model simulation\n",
    "* `animation_cccma-ssp45.ipynb`: Create animation for CanESM5 model scenario SSP2-45\n",
    "* `animation_cccma-ssp85.ipynb`: Create animation for CanESM5 model scenario SSP5-85\n",
    "* `animation_hadgem-ll_historic.ipynb`: Create animation for historic CHadGEM3-GC3.1-LL model simulation\n",
    "* `animation_hadgem_LL-ssp45.ipynb`: Create animation for HadGEM3-GC3.1-LL model scenario SSP2-45\n",
    "* `animation_hadgem_LL-ssp85.ipynb`: Create animation for HadGEM3-GC3.1-LL model scenario SSP5-85"
   ]
  },
  {
   "cell_type": "markdown",
   "id": "8d7f7de0",
   "metadata": {},
   "source": [
    "## Estimating Natural Variability\n",
    "\n",
    "Estimating natural variability code is in the folowing files: \n",
    "* `estimating_natural_variability_cccma_historical.ipynb`: create figures of ensemble means and area-weighted yearly mean of sea-ice thickness (historical model CanESM5)\n",
    "* `estimating_natural_variability_HadGEM3-GC31-LL_historical.ipynb`: create figures of ensemble mean and area-weighted yearly mean of sea-ice thickness (histoircal model Hadgem3-gc31-LL)\n",
    "* `estimating_natural_variability_HadGEM3-GC31-MM_historical.ipynb`: create figures of ensemble mean and area-weighted yearly mean of sea-ice thickness (histoircal model Hadgem3-gc31-MM)\n",
    "    * Note: Not used in this project. Code is an older version, not finalized for the report   \n",
    "\n",
    "* `comparing_hadgem_canesm5.ipynb`: create figure of a qualitative comparison of CanESM5 and HadGEM3-GC3.1-LL models\n",
    "* `comparing_ssp45_ssp85.ipynb`: create figure to compare the two emissions scnearios (SSP2-45 and SSP5-85 scenarios) for the CanESM5 model"
   ]
  },
  {
   "cell_type": "markdown",
   "id": "fe9bdb40",
   "metadata": {},
   "source": [
    "## Taylor Diagrams\n",
    "\n",
    "Taylor Diagram code is in the following files: \n",
    "* `sm_taylor_diagram_cccma_historical.ipynb`: create taylor diagram of CanESM5 ensemble members, compare with one ensemble member from HadGEM3-GC3.1-LL\n",
    "    * Note:  `sm_taylor_diagram_hadgem3-gc31-ll_historical.ipynb` must be run first\n",
    "    \n",
    "    <br>\n",
    "    \n",
    "* `sm_taylor_diagram_hadgem3-gc31-ll_historical.ipynb`: create taylor diagram of HadGEM3-GC3.1-LL ensemble members\n",
    "    * Note: run`sm_taylor_diagram_cccma_historical.ipynb` can be run afterwards to compare one ensemble member from the HadGEM3-GC3.1-LL with Canadian model\n",
    "    \n",
    "     <br>\n",
    "     \n",
    "* `sm_taylor_diagram_cccma-ssp45.ipynb`: create taylor diagram for the SSP2-45 scenario of CanESM5 ensemble members, compare with one ensemble member from HadGEM3-GC3.1-LL.\n",
    "    * Note: `sm_taylor_diagram_mohc_hadgem3-gc31-ll-spp45.ipynb` must be run first\n",
    "        \n",
    "     <br>\n",
    "     \n",
    "* `sm_taylor_diagram_mohc_hadgem3-gc31-ll-ssp45.ipynb`: set up HadGEM3-GC3.1-LL so that it can be run with the CanESM5 taylor diagram to compare the output from the future scenario SSP5-45.\n",
    "    * Note: run`sm_taylor_diagram_cccma-ssp45.ipynb` can be run afterwards to compare one ensemble member from the HadGEM3-GC3.1-LL with Canadian model (SSP2-45 scenario)\n",
    "    \n",
    "    <br>\n",
    "    \n",
    "* `sm_taylor_diagram_mohc_hadgem3-gc31-ll-ssp85.ipynb`: set up HadGEM3-GC3.1-LL so that it can be run with the CanESM5 taylor diagram to compare the output from the future scenario SSP5-85.\n",
    "    * Note: run`sm_taylor_diagram_cccma-ssp85.ipynb` can be run afterwards to compare one ensemble member from the HadGEM3-GC3.1-LL with Canadian model (SSP5-85 scenario)\n",
    "    \n",
    "    <br>"
   ]
  }
 ],
 "metadata": {
  "kernelspec": {
   "display_name": "Python 3",
   "language": "python",
   "name": "python3"
  },
  "language_info": {
   "codemirror_mode": {
    "name": "ipython",
    "version": 3
   },
   "file_extension": ".py",
   "mimetype": "text/x-python",
   "name": "python",
   "nbconvert_exporter": "python",
   "pygments_lexer": "ipython3",
   "version": "3.8.8"
  }
 },
 "nbformat": 4,
 "nbformat_minor": 5
}
